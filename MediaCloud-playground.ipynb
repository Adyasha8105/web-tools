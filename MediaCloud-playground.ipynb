{
 "cells": [
  {
   "cell_type": "markdown",
   "metadata": {},
   "source": [
    "MediaCloud\n",
    "----------"
   ]
  },
  {
   "cell_type": "code",
   "execution_count": null,
   "metadata": {},
   "outputs": [],
   "source": []
  },
  {
   "cell_type": "code",
   "execution_count": 3,
   "metadata": {},
   "outputs": [
    {
     "data": {
      "text/plain": [
       "'2.52.0'"
      ]
     },
     "execution_count": 3,
     "metadata": {},
     "output_type": "execute_result"
    }
   ],
   "source": [
    "import mediacloud, datetime, time, json, re, random\n",
    "from datetime import date, timedelta\n",
    "from server import app, config, views\n",
    "\n",
    "from IPython.core.interactiveshell import InteractiveShell\n",
    "InteractiveShell.ast_node_interactivity = \"all\"\n",
    "\n",
    "#TEST_KEY = '7f8cbce263d656b10a50918a34368cb0c9c66fdcc37bc3c7751b3360c231882c'\n",
    "#REGULAR_USER = '09c4f1f8e5f44b0d9f14e635aabd32d0e178a41317d08baa4c7d1df96dcc6f42'\n",
    "#DASHBOARD_KEY = '6750c9543409ca7719ecce68d243b076d1f222997be4e4bafbc642d3947f2bba'\n",
    "CINDY_KEY = '453e26d5babc0cbf5ab1809f429600b76d5de4a560ab9ba0b75fb8995bebd83f'\n",
    "API_KEY = CINDY_KEY\n",
    "mc = mediacloud.api.AdminMediaCloud(CINDY_KEY)\n",
    "CLIFF_CLAVIN_2_3_0_TAG_ID = 9353691  # the tag that indicates a story was tagged by the CLIFF version 2.3.0\n",
    "CLIFF_CLAVIN_2_4_1_TAG_ID = 9696677  # the tag that indicates a story was tagged by the CLIFF version 2.4.1\n",
    "NYT_LABELER_1_0_0_TAG_ID = 9360669    \n",
    "mediacloud.__version__"
   ]
  },
  {
   "cell_type": "code",
   "execution_count": 36,
   "metadata": {
    "scrolled": false
   },
   "outputs": [
    {
     "name": "stdout",
     "output_type": "stream",
     "text": [
      "[15:46:26][DEBUG] mediacloud.api api.py:_query:472 | query GET to https://api.mediacloud.org/api/v2/topics/1019/stories/list with {} and None\n",
      "[15:46:27][DEBUG] mediacloud.api api.py:_query:522 | Profiling: 1.49493002892s for GET to https://api.mediacloud.org/api/v2/topics/1019/stories/list (with {'key': '453e26d5babc0cbf5ab1809f429600b76d5de4a560ab9ba0b75fb8995bebd83f'} / null)\n",
      "20\n",
      "{u'date_is_reliable': 0, u'media_inlink_count': 28, u'simple_tweet_count': None, u'full_text_rss': False, u'media_id': 35268, u'inlink_count': 82, u'language': u'en', u'title': u'Common Core State Standards Initiative | Home', u'stories_id': 101183836, u'snapshots_id': 2004, u'outlink_count': 0, u'foci': [{u'foci_id': 1375, u'focal_set_name': u'Nyt Theme', u'name': u'teachers and school employees', u'stories_id': 101183836}, {u'foci_id': 1370, u'focal_set_name': u'Nyt Theme', u'name': u'labor', u'stories_id': 101183836}, {u'foci_id': 1365, u'focal_set_name': u'Nyt Theme', u'name': u'colleges and universities', u'stories_id': 101183836}, {u'foci_id': 1367, u'focal_set_name': u'Nyt Theme', u'name': u'education and schools', u'stories_id': 101183836}], u'publish_date': u'2012-10-23 04:19:34', u'url': u'http://www.corestandards.org/', u'media_name': u'corestandards.org', u'timespans_id': 152650, u'guid': u'http://www.corestandards.org/', u'facebook_share_count': 33870, u'collect_date': u'2013-03-03 22:00:20', u'normalized_tweet_count': None}\n"
     ]
    }
   ],
   "source": [
    "\n",
    "story_page = mc.topicStoryList(1019)['stories']\n",
    "print len(story_page)\n",
    "story_ids = [str(s['stories_id']) for s in story_page]\n",
    "\n",
    "print story_page[0]\n",
    "\n",
    "#print {k:v for k,v in story_page[0].iteritems()}\n",
    "#for k,v in story_page[0]['foci'].iteritems():\n",
    "#    print k:v\n",
    "\n",
    "#print views.topics.apicache.topic_story_list(CINDY_KEY, 'stories_id:(' + \" \".join(story_ids) + \")\")"
   ]
  },
  {
   "cell_type": "code",
   "execution_count": null,
   "metadata": {},
   "outputs": [],
   "source": []
  },
  {
   "cell_type": "code",
   "execution_count": 77,
   "metadata": {},
   "outputs": [
    {
     "name": "stdout",
     "output_type": "stream",
     "text": [
      "[17:15:19][DEBUG] mediacloud.api api.py:_query:472 | query GET to https://api.mediacloud.org/api/v2/stories/list with {'sort': 'processed_stories_id', 'fq': '', 'wc': 0, 'feeds_id': None, 'text': 0, 'last_processed_stories_id': 0, 'show_feeds': 0, 'sentences': 0, 'corenlp': 0, 'rows': 10, 'raw_1st_download': 0, 'q': 'stories_id:(101183836 326466041 260918928 275090075 150592049 275032991 223951031 275473572 275219896 275827276 233537744 275164563 260567491 275155645 275039588 275020571 275570212 305181873 275361750 212788472)', 'ap_stories_id': 0} and None\n",
      "[17:15:20][DEBUG] mediacloud.api api.py:_query:522 | Profiling: 0.814296960831s for GET to https://api.mediacloud.org/api/v2/stories/list (with {'sort': 'processed_stories_id', 'fq': '', 'wc': 0, 'feeds_id': None, 'text': 0, 'last_processed_stories_id': 0, 'show_feeds': 0, 'key': '453e26d5babc0cbf5ab1809f429600b76d5de4a560ab9ba0b75fb8995bebd83f', 'sentences': 0, 'corenlp': 0, 'rows': 10, 'raw_1st_download': 0, 'q': 'stories_id:(101183836 326466041 260918928 275090075 150592049 275032991 223951031 275473572 275219896 275827276 233537744 275164563 260567491 275155645 275039588 275020571 275570212 305181873 275361750 212788472)', 'ap_stories_id': 0} / null)\n",
      "[{u'tags_id': 8878461, u'tag': u'geonames_6252001', u'tag_sets_id': 1011, u'tag_set': u'mc-geocoder@media.mit.edu', u'stories_id': 212788472}, {u'tags_id': 8878577, u'tag': u'geonames_4921868', u'tag_sets_id': 1011, u'tag_set': u'mc-geocoder@media.mit.edu', u'stories_id': 212788472}, {u'tags_id': 8943768, u'tag': u'all', u'tag_sets_id': 1394, u'tag_set': u'controversy_common core', u'stories_id': 212788472}, {u'tags_id': 9325058, u'tag': u'readability-lxml-0.6.2', u'tag_sets_id': 1354, u'tag_set': u'extractor_version', u'stories_id': 212788472}, {u'tags_id': 9360669, u'tag': u'nyt_labeller_v1.0.0', u'tag_sets_id': 1964, u'tag_set': u'nyt_labels_version', u'stories_id': 212788472}, {u'tags_id': 9360836, u'tag': u'politics and government', u'tag_sets_id': 1963, u'tag_set': u'nyt_labels', u'stories_id': 212788472}, {u'tags_id': 9360840, u'tag': u'finances', u'tag_sets_id': 1963, u'tag_set': u'nyt_labels', u'stories_id': 212788472}, {u'tags_id': 9360846, u'tag': u'united states politics and government', u'tag_sets_id': 1963, u'tag_set': u'nyt_labels', u'stories_id': 212788472}, {u'tags_id': 9360849, u'tag': u'advertising and marketing', u'tag_sets_id': 1963, u'tag_set': u'nyt_labels', u'stories_id': 212788472}, {u'tags_id': 9360851, u'tag': u'elections', u'tag_sets_id': 1963, u'tag_set': u'nyt_labels', u'stories_id': 212788472}, {u'tags_id': 9360868, u'tag': u'armament, defense and military forces', u'tag_sets_id': 1963, u'tag_set': u'nyt_labels', u'stories_id': 212788472}, {u'tags_id': 9378384, u'tag': u'Sanders', u'tag_sets_id': 2389, u'tag_set': u'cliff_people', u'stories_id': 212788472}, {u'tags_id': 9378477, u'tag': u'U.S. Chamber of Commerce', u'tag_sets_id': 2388, u'tag_set': u'cliff_organizations', u'stories_id': 212788472}, {u'tags_id': 9696677, u'tag': u'cliff_clavin_v2.4.1', u'tag_sets_id': 1937, u'tag_set': u'geocoder_version', u'stories_id': 212788472}, {u'tags_id': 9704715, u'tag': u'U.S. Chamber of Commerce Foundation', u'tag_sets_id': 2388, u'tag_set': u'cliff_organizations', u'stories_id': 212788472}, {u'tags_id': 18714975, u'tag': u'Dane Linn', u'tag_sets_id': 2389, u'tag_set': u'cliff_people', u'stories_id': 212788472}, {u'tags_id': 18714980, u'tag': u'Cheryl Oldham', u'tag_sets_id': 2389, u'tag_set': u'cliff_people', u'stories_id': 212788472}]\n",
      "[8878461, 8878577, 8943768, 9325058, 9360669, 9360836, 9360840, 9360846, 9360849, 9360851, 9360868, 9378384, 9378477, 9696677, 9704715, 18714975, 18714980]\n",
      "[u'politics and government', u'finances', u'united states politics and government', u'advertising and marketing', u'elections', u'armament, defense and military forces']\n",
      "\n",
      "United States,Center Left,united states politics and government,politics and government,elections,finances,Print Native\n"
     ]
    }
   ],
   "source": [
    "combined_story_info = {}\n",
    "story_with_tags = mc.storyList(q, rows=10)\n",
    "\n",
    "for sp in story_page:\n",
    "    for st in story_with_tags:\n",
    "\n",
    "        if sp['stories_id'] == st['stories_id']:\n",
    "            sp.update(st)\n",
    "      \n",
    "foci_names = [f['name'] for f in sp['foci']]\n",
    "sp['subtopics'] = \",\".join(foci_names)\n",
    "\n",
    "sp['themes'] = ''\n",
    "story_tag_ids = [t['tags_id'] for t in sp['story_tags']]\n",
    "if 9360669 in story_tag_ids:\n",
    "    story_tag_ids = [t['tag'] for t in sp['story_tags'] if t['tag_sets_id'] == 1963]\n",
    "    print story_tag_ids\n",
    "\n",
    "\n",
    "print sp['themes']\n",
    "print sp['subtopics']\n"
   ]
  },
  {
   "cell_type": "code",
   "execution_count": 107,
   "metadata": {
    "scrolled": false
   },
   "outputs": [
    {
     "name": "stdout",
     "output_type": "stream",
     "text": [
      "[13:38:29][DEBUG] mediacloud.api api.py:_query:472 | query GET to https://api.mediacloud.org/api/v2/sentences/count with {'fq': ['tags_id_media: 34412234', 'tags_id_stories: 9362284', 'publish_date:[2018-03-12T00:00:00Z TO 2018-04-12T00:00:00Z}'], 'split_start_date': '2018-03-12', 'split_end_date': '2018-04-12', 'q': '*', 'split': 1, 'split_daily': 0} and None\n",
      "[13:38:37][DEBUG] mediacloud.api api.py:_query:522 | Profiling: 8.32334089279s for GET to https://api.mediacloud.org/api/v2/sentences/count (with {'fq': ['tags_id_media: 34412234', 'tags_id_stories: 9362284', 'publish_date:[2018-03-12T00:00:00Z TO 2018-04-12T00:00:00Z}'], 'split_start_date': '2018-03-12', 'split_end_date': '2018-04-12', 'q': '*', 'split': 1, 'key': '453e26d5babc0cbf5ab1809f429600b76d5de4a560ab9ba0b75fb8995bebd83f', 'split_daily': 0} / null)\n"
     ]
    },
    {
     "data": {
      "text/plain": [
       "{u'count': 1071489,\n",
       " u'split': {u'2018-03-12T00:00:00Z': 40991,\n",
       "  u'2018-03-13T00:00:00Z': 51483,\n",
       "  u'2018-03-14T00:00:00Z': 45267,\n",
       "  u'2018-03-15T00:00:00Z': 42183,\n",
       "  u'2018-03-16T00:00:00Z': 31829,\n",
       "  u'2018-03-17T00:00:00Z': 18175,\n",
       "  u'2018-03-18T00:00:00Z': 19153,\n",
       "  u'2018-03-19T00:00:00Z': 44504,\n",
       "  u'2018-03-20T00:00:00Z': 49551,\n",
       "  u'2018-03-21T00:00:00Z': 49115,\n",
       "  u'2018-03-22T00:00:00Z': 46485,\n",
       "  u'2018-03-23T00:00:00Z': 42929,\n",
       "  u'2018-03-24T00:00:00Z': 10377,\n",
       "  u'2018-03-25T00:00:00Z': 22702,\n",
       "  u'2018-03-26T00:00:00Z': 46860,\n",
       "  u'2018-03-27T00:00:00Z': 36898,\n",
       "  u'2018-03-28T00:00:00Z': 43435,\n",
       "  u'2018-03-29T00:00:00Z': 42479,\n",
       "  u'2018-03-30T00:00:00Z': 31411,\n",
       "  u'2018-03-31T00:00:00Z': 15889,\n",
       "  u'2018-04-01T00:00:00Z': 14017,\n",
       "  u'2018-04-02T00:00:00Z': 36107,\n",
       "  u'2018-04-03T00:00:00Z': 38924,\n",
       "  u'2018-04-04T00:00:00Z': 49404,\n",
       "  u'2018-04-05T00:00:00Z': 43285,\n",
       "  u'2018-04-06T00:00:00Z': 41671,\n",
       "  u'2018-04-07T00:00:00Z': 18858,\n",
       "  u'2018-04-08T00:00:00Z': 22731,\n",
       "  u'2018-04-09T00:00:00Z': 52775,\n",
       "  u'2018-04-10T00:00:00Z': 22001,\n",
       "  u'2018-04-11T00:00:00Z': 0,\n",
       "  u'end': u'2018-04-12T00:00:00Z',\n",
       "  u'gap': u'+1DAY',\n",
       "  u'start': u'2018-03-12T00:00:00Z'}}"
      ]
     },
     "execution_count": 107,
     "metadata": {},
     "output_type": "execute_result"
    }
   ],
   "source": [
    "mc.sentenceCount('*',\n",
    "              solr_filter=['tags_id_media: 34412234', 'tags_id_stories: 9362284',\n",
    "                           mc.publish_date_query( datetime.date(2018,3,12), datetime.date(2018,4,12))],\n",
    "                split=True, split_start_date='2018-03-12', split_end_date='2018-04-12')"
   ]
  },
  {
   "cell_type": "code",
   "execution_count": 108,
   "metadata": {},
   "outputs": [
    {
     "name": "stdout",
     "output_type": "stream",
     "text": [
      "[13:39:10][DEBUG] mediacloud.api api.py:_query:472 | query GET to https://api.mediacloud.org/api/v2/sentences/list with {'q': '*', 'fq': ['tags_id_media: 34412234', 'tags_id_stories: 9362284', 'publish_date:[2018-03-12T00:00:00Z TO 2018-04-12T00:00:00Z}'], 'rows': 2000, 'sort': 'random', 'start': 0} and None\n",
      "[13:39:23][DEBUG] mediacloud.api api.py:_query:522 | Profiling: 12.9173429012s for GET to https://api.mediacloud.org/api/v2/sentences/list (with {'sort': 'random', 'fq': ['tags_id_media: 34412234', 'tags_id_stories: 9362284', 'publish_date:[2018-03-12T00:00:00Z TO 2018-04-12T00:00:00Z}'], 'rows': 2000, 'q': '*', 'start': 0, 'key': '453e26d5babc0cbf5ab1809f429600b76d5de4a560ab9ba0b75fb8995bebd83f'} / null)\n",
      "[u'2018-03-12 00:34:03', u'2018-03-12 00:48:12', u'2018-03-12 01:05:48', u'2018-03-12 01:07:00', u'2018-03-12 01:09:27', u'2018-03-12 01:38:08', u'2018-03-12 05:00:00', u'2018-03-12 05:00:00', u'2018-03-12 05:00:00', u'2018-03-12 05:00:57']\n",
      "[u'2018-04-10 11:14:00', u'2018-04-10 11:29:28', u'2018-04-10 11:29:28', u'2018-04-10 12:24:03', u'2018-04-10 12:24:03', u'2018-04-10 12:40:28', u'2018-04-10 12:51:04', u'2018-04-10 13:31:18', u'2018-04-10 13:48:25', u'2018-04-10 22:44:00']\n"
     ]
    }
   ],
   "source": [
    "examples = mc.sentenceList('*',\n",
    "              ['tags_id_media: 34412234', 'tags_id_stories: 9362284',\n",
    "                           mc.publish_date_query( datetime.date(2018,3,12), datetime.date(2018,4,12))],\n",
    "               rows=2000, sort=mc.SORT_RANDOM)\n",
    "dates = [s['publish_date'] for s in examples['response']['docs']]\n",
    "sorted_dates = sorted([d for d in dates if d is not None])\n",
    "print(sorted_dates[:10])\n",
    "print(sorted_dates[-10:])"
   ]
  },
  {
   "cell_type": "code",
   "execution_count": 4,
   "metadata": {},
   "outputs": [
    {
     "ename": "NameError",
     "evalue": "name 'keywords' is not defined",
     "output_type": "error",
     "traceback": [
      "\u001b[0;31m---------------------------------------------------------------------------\u001b[0m",
      "\u001b[0;31mNameError\u001b[0m                                 Traceback (most recent call last)",
      "\u001b[0;32m<ipython-input-4-c6f1d8647b72>\u001b[0m in \u001b[0;36m<module>\u001b[0;34m()\u001b[0m\n\u001b[0;32m----> 1\u001b[0;31m print(mc.sentenceCount(keywords, [\"media_id: 39\",\n\u001b[0m\u001b[1;32m      2\u001b[0m                                   'publish_date:NOW to NOW-3MONTH']))\n\u001b[1;32m      3\u001b[0m \u001b[0;34m\u001b[0m\u001b[0m\n\u001b[1;32m      4\u001b[0m print(mc.sentenceCount(keywords, [\"media_id: 28\",\n\u001b[1;32m      5\u001b[0m                                   'publish_date:NOW to NOW-3MONTH']))\n",
      "\u001b[0;31mNameError\u001b[0m: name 'keywords' is not defined"
     ]
    }
   ],
   "source": [
    "print(mc.sentenceCount(keywords, [\"media_id: 39\",\n",
    "                                  'publish_date:NOW to NOW-3MONTH']))\n",
    "\n",
    "print(mc.sentenceCount(keywords, [\"media_id: 28\",\n",
    "                                  'publish_date:NOW to NOW-3MONTH']))\n",
    "\n",
    "print(mc.sentenceCount(keywords, [\"media_id: (28 39)\",\n",
    "                                  'publish_date:NOW to NOW-3MONTH']))\n",
    "\n",
    "\n"
   ]
  },
  {
   "cell_type": "code",
   "execution_count": null,
   "metadata": {},
   "outputs": [],
   "source": [
    "# tag sets that hold tags on stories\n",
    "NYT_LABELS_TAG_SET = 1963 # one tag per theme in a story (Jasmin's transfer-learning model)\n",
    "GEO_TAG_SET = 1011 # one tag per country/state stories are about (disambiguated)\n",
    "CLIFF_ORGS_TAG_SET = 2388 # one tag for each org mentioned in stories\n",
    "CLIFF_PEOPLE_TAG_SET = 2389 # one tag for each perosn mentioned in stories\n",
    "\n",
    "US_PEW_TOP_MEDIA_COLLECTION_ID = 9139487\n",
    "\n",
    "# find the most use tags within a set over the last few months in the US Top Online set of sources\n",
    "mc.sentenceFieldCount('*',[\n",
    "    'tags_id_media:{}'.format(US_PEW_TOP_MEDIA_COLLECTION_ID),\n",
    "    'publish_date:NOW to NOW-3MONTH'\n",
    "    ],\n",
    "    tag_sets_id=GEO_TAG_SET,\n",
    "    sample_size=5000)"
   ]
  },
  {
   "cell_type": "code",
   "execution_count": null,
   "metadata": {},
   "outputs": [],
   "source": [
    "mc.topicStoryCount(1747, q=\"tags_id_media:32018496\")"
   ]
  },
  {
   "cell_type": "code",
   "execution_count": null,
   "metadata": {},
   "outputs": [],
   "source": [
    "mc.tag(9361422)"
   ]
  },
  {
   "cell_type": "code",
   "execution_count": null,
   "metadata": {},
   "outputs": [],
   "source": [
    "mc.storyCount('tags_id_media:32018491',\n",
    "              solr_filter=['media_id:1',\n",
    "                           mc.publish_date_query( datetime.date(2018,1,1), datetime.date(2018,1,10))])"
   ]
  },
  {
   "cell_type": "code",
   "execution_count": null,
   "metadata": {},
   "outputs": [],
   "source": [
    "29444 + 7542"
   ]
  },
  {
   "cell_type": "code",
   "execution_count": null,
   "metadata": {},
   "outputs": [],
   "source": [
    "mc.createTagSet(name=\"topic-1375-classifications\", description=\"Automated classifications generated for topic 1375\", label=\"Topic 1375 Classifications\")"
   ]
  },
  {
   "cell_type": "markdown",
   "metadata": {},
   "source": [
    "## Word Embeddings Server Test"
   ]
  },
  {
   "cell_type": "code",
   "execution_count": null,
   "metadata": {},
   "outputs": [],
   "source": [
    "import requests\n",
    "response = requests.post(\"http://word-embeddings.mcnlp.media.mit.edu/embeddings/2d.json\",\n",
    "#response = requests.post(\"http://localhost:8000/embeddings/2d.json\",\n",
    "                        data = {'words[]':['one', 'two', 'three', 'state\\'s'],\n",
    "                                'model':'GoogleNews-vectors-negative300.bin'})\n",
    "response.json()"
   ]
  },
  {
   "cell_type": "markdown",
   "metadata": {},
   "source": [
    "## Top Media Sources in Election Study Retweet Partisanship Quintiles"
   ]
  },
  {
   "cell_type": "code",
   "execution_count": null,
   "metadata": {
    "scrolled": true
   },
   "outputs": [],
   "source": [
    "#m = [m['url'] for m in mc.topicMediaList(1404, timespans_id=81068, sort='facebook')['media']] # right \n",
    "#m = [print(m['url']) for m in mc.topicMediaList(1404, timespans_id=80966, sort='facebook')['media']] # left\n",
    "#m = [print(m['url']) for m in mc.topicMediaList(1404, timespans_id=80660, sort='facebook')['media']] # center\n",
    "#m = [print(m['url']) for m in mc.topicMediaList(1404, timespans_id=80762, sort='facebook')['media']] # center left\n",
    "m = [print(m['url']) for m in mc.topicMediaList(1404, timespans_id=80864, sort='facebook')['media']] # center right"
   ]
  },
  {
   "cell_type": "markdown",
   "metadata": {},
   "source": [
    "## All Tags in a Set"
   ]
  },
  {
   "cell_type": "code",
   "execution_count": null,
   "metadata": {},
   "outputs": [],
   "source": [
    "import json # all the tags in a tag set\n",
    "def tags_in_set(tag_sets_id):\n",
    "    tags = []\n",
    "    last_tags_id = 0\n",
    "    limit = 100\n",
    "    while last_tags_id is not None:\n",
    "        results = mc.tagList(tag_sets_id=tag_sets_id, last_tags_id=last_tags_id, rows=limit)\n",
    "        tags += results\n",
    "        last_tags_id = results[-1]['tags_id'] if len(results) == limit else None\n",
    "    return tags\n",
    "\n",
    "tags = tags_in_set(15765102)\n",
    "json.dumps(tags)\n",
    "#for tag in tags:\n",
    "#    print(\"{},{}\".format(tag['tags_id'], tag['label']))"
   ]
  },
  {
   "cell_type": "markdown",
   "metadata": {},
   "source": [
    "## Stories Over Time"
   ]
  },
  {
   "cell_type": "code",
   "execution_count": null,
   "metadata": {},
   "outputs": [],
   "source": [
    "results = mc.sentenceList(\"*\",\"tags_id_media:(8875027 2453107 129 8878292 8878293 8878294)\")\n",
    "results"
   ]
  },
  {
   "cell_type": "code",
   "execution_count": null,
   "metadata": {},
   "outputs": [],
   "source": [
    "mc.storyCount(\"russia\",[\"media_id:27502\",\n",
    "                              mc.publish_date_query( datetime.date(2016,11,9), datetime.date(2017,1,20))])"
   ]
  },
  {
   "cell_type": "markdown",
   "metadata": {},
   "source": [
    "## Check User Quota"
   ]
  },
  {
   "cell_type": "code",
   "execution_count": null,
   "metadata": {},
   "outputs": [],
   "source": [
    "user_mc = mediacloud.api.MediaCloud('02fb371511daa7757d9bf5eb9df124930d009920d32484952b4bf2f5f89b9a19')"
   ]
  },
  {
   "cell_type": "code",
   "execution_count": null,
   "metadata": {},
   "outputs": [],
   "source": [
    "user_mc.userProfile()"
   ]
  },
  {
   "cell_type": "code",
   "execution_count": null,
   "metadata": {},
   "outputs": [],
   "source": [
    "user_mc.authResetPassword(email=\"songyanmatisse@gmail.com\")"
   ]
  },
  {
   "cell_type": "code",
   "execution_count": null,
   "metadata": {},
   "outputs": [],
   "source": [
    "mc.authLogin(email=\"David.f.jenkins@usa.net\", password=\"data4david\")"
   ]
  },
  {
   "cell_type": "markdown",
   "metadata": {},
   "source": [
    "## CLIFF"
   ]
  },
  {
   "cell_type": "code",
   "execution_count": null,
   "metadata": {},
   "outputs": [],
   "source": [
    "c = mediameter.cliff.Cliff('http://civicdev.media.mit.edu',8080)\n",
    "c.geonamesLookup(6252001)"
   ]
  },
  {
   "cell_type": "code",
   "execution_count": null,
   "metadata": {},
   "outputs": [],
   "source": [
    "\"geonames_6252001\".split('_')[1]"
   ]
  },
  {
   "cell_type": "code",
   "execution_count": null,
   "metadata": {},
   "outputs": [],
   "source": [
    "mc.sentenceCount(\"(publish_date:[2014-11-08T00:00:00Z TO 2014-11-27T00:00:00Z]) AND (tags_id_media:(8875027 2453107 129 8878292 8878293 8878294)) \")"
   ]
  },
  {
   "cell_type": "code",
   "execution_count": null,
   "metadata": {},
   "outputs": [],
   "source": [
    "mc.sentenceCount(\"(publish_date:[2014-11-08T00:00:00Z TO 2014-11-27T00:00:00Z]) AND (tags_id_media:(8875027 2453107 129 8878292 8878293 8878294)) AND NOT (tags_id_stories:8875452) \")"
   ]
  },
  {
   "cell_type": "code",
   "execution_count": null,
   "metadata": {},
   "outputs": [],
   "source": [
    "mc.story(435914244)"
   ]
  },
  {
   "cell_type": "code",
   "execution_count": null,
   "metadata": {},
   "outputs": [],
   "source": [
    "mc.storyList(\"sentence:(trump Obama)\")"
   ]
  },
  {
   "cell_type": "code",
   "execution_count": null,
   "metadata": {},
   "outputs": [],
   "source": [
    "mc.sentenceCount(\"+sentence:Trump\")"
   ]
  },
  {
   "cell_type": "markdown",
   "metadata": {
    "collapsed": true
   },
   "source": [
    "## Create Custom Tag Set"
   ]
  },
  {
   "cell_type": "code",
   "execution_count": null,
   "metadata": {},
   "outputs": [],
   "source": [
    "mc.createTagSet('media_format','Media Type', 'Categorize sources by their original media forms.')"
   ]
  },
  {
   "cell_type": "code",
   "execution_count": null,
   "metadata": {},
   "outputs": [],
   "source": [
    "tag_sets_id = 1972\n",
    "tags_to_create = [\n",
    "    ['print_native', 'Print Native', 'This source is primarly a print publication. Use this for newspapers and magazines. Examples: New York Times, The Economist.'],\n",
    "    ['digital_native', 'Digital Native', 'This source is internet based. Use this for news sources that began on the internet first, organizational websites, and blogs. Examples: CDC, Vox, Scroll.in.'],\n",
    "    ['video_broadcast', 'Video Broadcast', 'This source is primarily a broadcast TV station (ie. video transcriptions or closed captions). Examples: CNN, FoxNews.'],\n",
    "    ['audio_broadcast', 'Audio Broadcast', 'This source is primarily a broadcast radio station or podcast (ie. audio transcriptions). Examples: NPR.'],\n",
    "    ['other', 'Other', 'This source doesn\\'t fit in any of the other categories. Examples: AP, Reuters.']\n",
    "]\n",
    "for tag in tags_to_create:\n",
    "    mc.createTag(tag_sets_id, tag[0], tag[1], tag[2], show_on_media=True)"
   ]
  },
  {
   "cell_type": "code",
   "execution_count": null,
   "metadata": {},
   "outputs": [],
   "source": [
    "mc.updateTagSet(1964, show_on_stories=True)"
   ]
  },
  {
   "cell_type": "code",
   "execution_count": null,
   "metadata": {},
   "outputs": [],
   "source": [
    "us_states = [ [\"Alabama\", \"AL\"], [\"Alaska\", \"AK\"], [\"American Samoa\", \"AS\"], [\"Arizona\", \"AZ\"], [\"Arkansas\", \"AR\"], [\"California\", \"CA\"], [\"Colorado\", \"CO\"], [\"Connecticut\", \"CT\"], [\"Delaware\", \"DE\"], [\"District of Columbia\", \"DC\"], [\"Federated States of Micronesia\", \"FM\"], [\"Florida\", \"FL\"], [\"Georgia\", \"GA\"], [\"Guam\", \"GU\"], [\"Hawaii\", \"HI\"], [\"Idaho\", \"ID\"], [\"Illinois\", \"IL\"], [\"Indiana\", \"IN\"], [\"Iowa\", \"IA\"], [\"Kansas\", \"KS\"], [\"Kentucky\", \"KY\"], [\"Louisiana\", \"LA\"], [\"Maine\", \"ME\"], [\"Marshall Islands\", \"MH\"], [\"Maryland\", \"MD\"], [\"Massachusetts\", \"MA\"], [\"Michigan\", \"MI\"], [\"Minnesota\", \"MN\"], [\"Mississippi\", \"MS\"], [\"Missouri\", \"MO\"], [\"Montana\", \"MT\"], [\"Nebraska\", \"NE\"], [\"Nevada\", \"NV\"], [\"New Hampshire\", \"NH\"], [\"New Jersey\", \"NJ\"], [\"New Mexico\", \"NM\"], [\"New York\", \"NY\"], [\"North Carolina\", \"NC\"], [\"North Dakota\", \"ND\"], [\"Northern Mariana Islands\", \"MP\"], [\"Ohio\", \"OH\"], [\"Oklahoma\", \"OK\"], [\"Oregon\", \"OR\"], [\"Palau\", \"PW\"], [\"Pennsylvania\", \"PA\"], [\"Puerto Rico\", \"PR\"], [\"Rhode Island\", \"RI\"], [\"South Carolina\", \"SC\"], [\"South Dakota\", \"SD\"], [\"Tennessee\", \"TN\"], [\"Texas\", \"TX\"], [\"Utah\", \"UT\"], [\"Vermont\", \"VT\"], [\"Virgin Islands\", \"VI\"], [\"Virginia\", \"VA\"], [\"Washington\", \"WA\"], [\"West Virginia\", \"WV\"], [\"Wisconsin\", \"WI\"], [\"Wyoming\", \"WY\"] ]\n",
    "for s in us_states:\n",
    "    mc.createTag(1962, 'USA_'+s[1], s[1]+', USA', 'Published in '+s[0]+', USA', is_static=True, show_on_stories=True)"
   ]
  },
  {
   "cell_type": "code",
   "execution_count": null,
   "metadata": {},
   "outputs": [],
   "source": [
    "mc.sentenceFieldCount(\"{~ timespan:59784 }\", field='tags_id_stories', tag_sets_id=1963, sample_size=10000)"
   ]
  },
  {
   "cell_type": "code",
   "execution_count": null,
   "metadata": {},
   "outputs": [],
   "source": [
    "indian_states = [\"AN\",\"Andaman and Nicobar Islands\",\"Union territory\"],[\"AP\",\"Andhra Pradesh\",\"state\"],[\"AR\",\"Arunachal Pradesh\",\"state\"],[\"AS\",\"Assam\",\"state\"],[\"BR\",\"Bihar\",\"state\"],[\"CH\",\"Chandigarh\",\"Union territory\"],[\"CT\",\"Chhattisgarh\",\"state\"],[\"DD\",\"Daman and Diu\",\"Union territory\"],[\"DL\",\"Delhi\",\"Union territory\"],[\"DN\",\"Dadra and Nagar Haveli\",\"Union territory\"],[\"GA\",\"Goa\",\"state\"],[\"GJ\",\"Gujarat\",\"state\"],[\"HP\",\"Himachal Pradesh\",\"state\"],[\"HR\",\"Haryana\",\"state\"],[\"JH\",\"Jharkhand\",\"state\"],[\"JK\",\"Jammu and Kashmir\",\"state\"],[\"KA\",\"Karnataka\",\"state\"],[\"KL\",\"Kerala\",\"state\"],[\"LD\",\"Lakshadweep\",\"Union territory\"],[\"MH\",\"Maharashtra\",\"state\"],[\"ML\",\"Meghalaya\",\"state\"],[\"MN\",\"Manipur\",\"state\"],[\"MP\",\"Madhya Pradesh\",\"state\"],[\"MZ\",\"Mizoram\",\"state\"],[\"NL\",\"Nagaland\",\"state\"],[\"OR\",\"Odisha\",\"state\"],[\"PB\",\"Punjab\",\"state\"],[\"PY\",\"Puducherry\",\"Union territory\"],[\"RJ\",\"Rajasthan\",\"state\"],[\"SK\",\"Sikkim\",\"state\"],[\"TG\",\"Telangana\",\"state\"],[\"TN\",\"Tamil Nadu\",\"state\"],[\"TR\",\"Tripura\",\"state\"],[\"UP\",\"Uttar Pradesh\",\"state\"],[\"UT\",\"Uttarakhand\",\"state\"],[\"WB\",\"West Bengal\",\"state\"]\n",
    "for s in indian_states:\n",
    "    mc.createTag(1962, 'IND_'+s[0], s[1]+', India', 'Published in the '+s[2]+' of '+s[1]+', India', is_static=True, show_on_stories=True)"
   ]
  },
  {
   "cell_type": "code",
   "execution_count": null,
   "metadata": {},
   "outputs": [],
   "source": [
    "mc.topicStoryCount(1019)"
   ]
  },
  {
   "cell_type": "code",
   "execution_count": null,
   "metadata": {},
   "outputs": [],
   "source": [
    "mc.tagSet(1972)"
   ]
  },
  {
   "cell_type": "code",
   "execution_count": null,
   "metadata": {},
   "outputs": [],
   "source": [
    "mc.tagList(tag_sets_id=1972)"
   ]
  },
  {
   "cell_type": "code",
   "execution_count": null,
   "metadata": {},
   "outputs": [],
   "source": []
  }
 ],
 "metadata": {
  "celltoolbar": "Raw Cell Format",
  "kernelspec": {
   "display_name": "Python 2",
   "language": "python",
   "name": "python2"
  },
  "language_info": {
   "codemirror_mode": {
    "name": "ipython",
    "version": 2
   },
   "file_extension": ".py",
   "mimetype": "text/x-python",
   "name": "python",
   "nbconvert_exporter": "python",
   "pygments_lexer": "ipython2",
   "version": "2.7.10"
  },
  "widgets": {
   "application/vnd.jupyter.widget-state+json": {
    "state": {},
    "version_major": 2,
    "version_minor": 0
   }
  }
 },
 "nbformat": 4,
 "nbformat_minor": 1
}
